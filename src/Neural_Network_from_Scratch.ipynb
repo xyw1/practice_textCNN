{
 "cells": [
  {
   "cell_type": "code",
   "execution_count": 145,
   "metadata": {},
   "outputs": [],
   "source": [
    "import pandas as pd\n",
    "import numpy as np\n",
    "from math import exp"
   ]
  },
  {
   "cell_type": "markdown",
   "metadata": {},
   "source": [
    "input data:\n",
    "shape = (2,6)\n",
    "\n",
    "Layer 1\n",
    "\n",
    "$L1 = h1(input·W1+b1)$\n",
    "\n",
    "Layer 2\n",
    "\n",
    "$L2 = h2(L1·W2+b2)$\n",
    "\n",
    "Output layer\n",
    "\n",
    "$output = h3(L2·W3+b3)$\n",
    "\n",
    "activation function\n",
    "sigmoid function:\n",
    "h(x)=1/(1+exp(-x))"
   ]
  },
  {
   "cell_type": "code",
   "execution_count": 88,
   "metadata": {},
   "outputs": [],
   "source": [
    "# sigmoid function\n",
    "def sigmoid(x):\n",
    "    return 1/float(1+exp(-x))"
   ]
  },
  {
   "cell_type": "code",
   "execution_count": 89,
   "metadata": {},
   "outputs": [],
   "source": [
    "# activation\n",
    "def h(input_array):\n",
    "    shape = input_array.shape\n",
    "    return np.array([sigmoid(item) for row in input_array for item in row]).reshape(shape[0],shape[1])"
   ]
  },
  {
   "cell_type": "code",
   "execution_count": 62,
   "metadata": {},
   "outputs": [],
   "source": [
    "# L1：3个神经元\n",
    "# L2：6个神经元\n",
    "# L3：2个神经元\n",
    "input_data = np.array([[1,2,3,4,5,6],[1,3,5,7,9,11]]) # shape = (2,6) (样本数目，输入数据维数)\n",
    "W1 = np.array([\n",
    "        [2,2,2],\n",
    "        [2,2,2],\n",
    "        [2,2,2],\n",
    "        [2,2,2],\n",
    "        [2,2,2],\n",
    "        [2,2,2]\n",
    "    ]) # shape = (输入数据维数,L1神经元数目),\n",
    "b1 = np.array([[3,3,3]]) # shape = （1，L1神经元数目）\n",
    "W2 = np.array([\n",
    "            [1,2,3,3,2,1], \n",
    "            [1,2,3,3,2,1],\n",
    "            [1,2,3,3,2,1]\n",
    "    ]) # shape = (上一层神经元数目，L2神经元数目) \n",
    "b2 = np.array([[7,6,5,4,3,2]]) # shape = （1，L2神经元数目）\n",
    "W3 =  np.array([ \n",
    "            [1,2],\n",
    "            [3,3],\n",
    "            [2,3],\n",
    "            [2,1],\n",
    "            [1,1],\n",
    "            [4,5]\n",
    "    ])# shape = (上一层神经元数目，输出层神经元个数)\n",
    "b3 = np.array([8,9])# shape = (1,输出层神经元个数)"
   ]
  },
  {
   "cell_type": "code",
   "execution_count": 90,
   "metadata": {},
   "outputs": [
    {
     "data": {
      "text/plain": [
       "(2, 3)"
      ]
     },
     "execution_count": 90,
     "metadata": {},
     "output_type": "execute_result"
    }
   ],
   "source": [
    "L1 = h( np.dot(input_data,W1) + b1 )\n",
    "L1.shape # shape = (样本数目，L1神经元数目)"
   ]
  },
  {
   "cell_type": "code",
   "execution_count": 92,
   "metadata": {},
   "outputs": [
    {
     "data": {
      "text/plain": [
       "(2, 6)"
      ]
     },
     "execution_count": 92,
     "metadata": {},
     "output_type": "execute_result"
    }
   ],
   "source": [
    "L2 = h( np.dot(L1,W2) + b2 )\n",
    "L2.shape # shape = (样本数目，L2神经元数目)"
   ]
  },
  {
   "cell_type": "code",
   "execution_count": 94,
   "metadata": {},
   "outputs": [
    {
     "data": {
      "text/plain": [
       "(2, 2)"
      ]
     },
     "execution_count": 94,
     "metadata": {},
     "output_type": "execute_result"
    }
   ],
   "source": [
    "L3 = h( np.dot(L2,W3) + b3 )\n",
    "L3.shape # shape = (样本数目，输出层神经元数目)"
   ]
  },
  {
   "cell_type": "code",
   "execution_count": 95,
   "metadata": {},
   "outputs": [
    {
     "data": {
      "text/plain": [
       "array([[1., 1.],\n",
       "       [1., 1.]])"
      ]
     },
     "execution_count": 95,
     "metadata": {},
     "output_type": "execute_result"
    }
   ],
   "source": [
    "L3"
   ]
  },
  {
   "cell_type": "code",
   "execution_count": 96,
   "metadata": {},
   "outputs": [],
   "source": [
    "def forward(input_data):\n",
    "    L1 = h( np.dot(input_data,W1) + b1 )\n",
    "    L2 = h( np.dot(L1,W2) + b2 )\n",
    "    out = h( np.dot(L2,W3) + b3 )\n",
    "    return out"
   ]
  },
  {
   "cell_type": "code",
   "execution_count": 98,
   "metadata": {},
   "outputs": [
    {
     "data": {
      "text/plain": [
       "array([[1., 1.],\n",
       "       [1., 1.]])"
      ]
     },
     "execution_count": 98,
     "metadata": {},
     "output_type": "execute_result"
    }
   ],
   "source": [
    "forward(input_data)"
   ]
  },
  {
   "cell_type": "code",
   "execution_count": 112,
   "metadata": {},
   "outputs": [
    {
     "data": {
      "text/plain": [
       "array([[ 2,  2,  3,  4,  5,  6],\n",
       "       [ 2,  3,  5,  7,  9, 11]])"
      ]
     },
     "execution_count": 112,
     "metadata": {},
     "output_type": "execute_result"
    }
   ],
   "source": [
    "input_data"
   ]
  },
  {
   "cell_type": "code",
   "execution_count": 193,
   "metadata": {},
   "outputs": [
    {
     "data": {
      "text/plain": [
       "array([3., 2., 3., 4., 5., 6.])"
      ]
     },
     "execution_count": 193,
     "metadata": {},
     "output_type": "execute_result"
    }
   ],
   "source": [
    "inputs = input_data[0,].astype('float64')\n",
    "inputs"
   ]
  },
  {
   "cell_type": "code",
   "execution_count": 194,
   "metadata": {},
   "outputs": [
    {
     "data": {
      "text/plain": [
       "array([3., 2., 3., 4., 5., 6.])"
      ]
     },
     "execution_count": 194,
     "metadata": {},
     "output_type": "execute_result"
    }
   ],
   "source": [
    "inputs0 = inputs.copy()\n",
    "inputs0"
   ]
  },
  {
   "cell_type": "code",
   "execution_count": 195,
   "metadata": {},
   "outputs": [
    {
     "data": {
      "text/plain": [
       "array([3.01, 2.  , 3.  , 4.  , 5.  , 6.  ])"
      ]
     },
     "execution_count": 195,
     "metadata": {},
     "output_type": "execute_result"
    }
   ],
   "source": [
    "inputs[0]=inputs[0]+0.01\n",
    "inputs"
   ]
  },
  {
   "cell_type": "code",
   "execution_count": 196,
   "metadata": {},
   "outputs": [
    {
     "data": {
      "text/plain": [
       "array([3., 2., 3., 4., 5., 6.])"
      ]
     },
     "execution_count": 196,
     "metadata": {},
     "output_type": "execute_result"
    }
   ],
   "source": [
    "inputs0"
   ]
  },
  {
   "cell_type": "code",
   "execution_count": 164,
   "metadata": {},
   "outputs": [],
   "source": [
    "def mse(pred_out,answer):\n",
    "    return 0.5*np.sum((pred_out-answer)**2)\n",
    "    \n",
    "def cross_entropy(pred_out,answer):\n",
    "    return -np.sum(answer * np.log(pred_out),axis=1)# 按行求和\n",
    "\n",
    "def loss_function(pred_out):\n",
    "    answer = np.array([0.0,1.0])\n",
    "    N = len(answer)\n",
    "    return np.sum(cross_entropy(pred_out,answer))/float(N)\n"
   ]
  },
  {
   "cell_type": "code",
   "execution_count": 166,
   "metadata": {},
   "outputs": [
    {
     "data": {
      "text/plain": [
       "0.5108256237659906"
      ]
     },
     "execution_count": 166,
     "metadata": {},
     "output_type": "execute_result"
    }
   ],
   "source": [
    "loss_function(np.array([[0.1,0.9],[0.2,0.8],[0.5,0.5]]))"
   ]
  },
  {
   "cell_type": "code",
   "execution_count": 199,
   "metadata": {},
   "outputs": [],
   "source": [
    "def gradient(inputs):\n",
    "    N = len(inputs)\n",
    "    gradient = np.array([0]*N)\n",
    "    delda_x = 0.01\n",
    "    for i in range(N):\n",
    "        new_inputs = inputs.copy()\n",
    "        new_inputs[i] = new_inputs[i]+delda_x\n",
    "        delda_y = loss_function(forward(inputs))-loss_function(forward(inputs0))\n",
    "        gradient[i] = delda_y/float(delda_x)\n",
    "    return gradient\n",
    "    "
   ]
  },
  {
   "cell_type": "code",
   "execution_count": 200,
   "metadata": {},
   "outputs": [
    {
     "data": {
      "text/plain": [
       "array([0, 0, 0, 0, 0, 0])"
      ]
     },
     "execution_count": 200,
     "metadata": {},
     "output_type": "execute_result"
    }
   ],
   "source": [
    "gradient(inputs) "
   ]
  },
  {
   "cell_type": "code",
   "execution_count": 203,
   "metadata": {},
   "outputs": [],
   "source": [
    "def gradient_descent(inputs,params,lr=0.01):\n",
    "    grads = gradient(inputs)\n",
    "    inputs = inputs - lr*grads\n",
    "    return inputs"
   ]
  },
  {
   "cell_type": "code",
   "execution_count": null,
   "metadata": {},
   "outputs": [],
   "source": [
    "  "
   ]
  }
 ],
 "metadata": {
  "kernelspec": {
   "display_name": "Python 3",
   "language": "python",
   "name": "python3"
  },
  "language_info": {
   "codemirror_mode": {
    "name": "ipython",
    "version": 3
   },
   "file_extension": ".py",
   "mimetype": "text/x-python",
   "name": "python",
   "nbconvert_exporter": "python",
   "pygments_lexer": "ipython3",
   "version": "3.7.6"
  }
 },
 "nbformat": 4,
 "nbformat_minor": 4
}
