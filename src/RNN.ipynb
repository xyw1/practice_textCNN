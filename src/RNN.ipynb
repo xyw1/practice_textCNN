{
 "cells": [
  {
   "cell_type": "code",
   "execution_count": 1,
   "metadata": {},
   "outputs": [],
   "source": [
    "# reference: dive into deep learning - ch06\n",
    "import d2lzh as d2l\n",
    "import math\n",
    "from mxnet import autograd, nd\n",
    "from mxnet.gluon import loss as gloss\n",
    "import time"
   ]
  },
  {
   "cell_type": "code",
   "execution_count": 7,
   "metadata": {},
   "outputs": [],
   "source": [
    "( corpus_indices, char_to_idx, idx_to_char, vocab_size ) = d2l.load_data_jay_lyrics()"
   ]
  },
  {
   "cell_type": "code",
   "execution_count": 10,
   "metadata": {},
   "outputs": [],
   "source": [
    "def to_onehot(X, size):\n",
    "    return [nd.one_hot(x,size) for x in X.T]"
   ]
  },
  {
   "cell_type": "code",
   "execution_count": 11,
   "metadata": {},
   "outputs": [
    {
     "data": {
      "text/plain": [
       "(5, (2, 1027))"
      ]
     },
     "execution_count": 11,
     "metadata": {},
     "output_type": "execute_result"
    }
   ],
   "source": [
    "X = nd.arange(10).reshape((2,5))\n",
    "inputs = to_onehot(X, vocab_size)\n",
    "len(inputs), inputs[0].shape"
   ]
  },
  {
   "cell_type": "code",
   "execution_count": 62,
   "metadata": {},
   "outputs": [
    {
     "data": {
      "text/plain": [
       "1027"
      ]
     },
     "execution_count": 62,
     "metadata": {},
     "output_type": "execute_result"
    }
   ],
   "source": [
    "vocab_size"
   ]
  },
  {
   "cell_type": "raw",
   "metadata": {},
   "source": [
    "初始化模型参数"
   ]
  },
  {
   "cell_type": "code",
   "execution_count": 63,
   "metadata": {},
   "outputs": [
    {
     "name": "stdout",
     "output_type": "stream",
     "text": [
      "will use cpu(0)\n"
     ]
    }
   ],
   "source": [
    "num_inputs, num_hiddens, num_outputs = vocab_size, 256, vocab_size\n",
    "ctx = d2l.try_gpu()\n",
    "print('will use', ctx)"
   ]
  },
  {
   "cell_type": "code",
   "execution_count": 88,
   "metadata": {},
   "outputs": [],
   "source": [
    "\n",
    "def get_params():\n",
    "    def _one(shape):\n",
    "        return nd.random.normal(scale=0.01,shape=shape,ctx=ctx)\n",
    "    #隐藏层参数\n",
    "    W_xh = _one((num_inputs,num_hiddens))\n",
    "    W_hh = _one((num_hiddens,num_hiddens))\n",
    "    b_h = nd.zeros(num_hiddens,ctx=ctx)\n",
    "    #输出层参数\n",
    "    W_hq = _one((num_hiddens,num_outputs))\n",
    "    b_q = nd.zeros(num_outputs,ctx=ctx)\n",
    "    #附上梯度\n",
    "    params = [W_xh, W_hh, b_h, W_hq, b_q]\n",
    "    #print (W_xh.shape)\n",
    "    for param in params:\n",
    "        param.attach_grad()\n",
    "    return params"
   ]
  },
  {
   "cell_type": "raw",
   "metadata": {},
   "source": [
    "定义模型"
   ]
  },
  {
   "cell_type": "code",
   "execution_count": 89,
   "metadata": {},
   "outputs": [],
   "source": [
    "def init_rnn_state(batch_size, num_hiddens, ctx):\n",
    "    return (nd.zeros(shape=(batch_size,num_hiddens),ctx=ctx),)"
   ]
  },
  {
   "cell_type": "code",
   "execution_count": 85,
   "metadata": {},
   "outputs": [],
   "source": [
    "def rnn(inputs,state,params):\n",
    "    # inputs和outputs皆为num_steps个形状为（batch_size, vocab_size)的矩阵\n",
    "    W_xh, W_hh, b_h, W_hq, b_q = params\n",
    "    H, = state\n",
    "    outputs = []\n",
    "    for X in inputs:\n",
    "        #print (W_xh.shape)\n",
    "        #H = nd.tanh(nd.dot(X,W_hh)+ nd.dot(H,W_hh)+b_h)\n",
    "        #print (nd.dot(H,W_hh).shape)\n",
    "        H = nd.tanh(nd.dot(X,W_xh)+nd.dot(H,W_hh)+b_h)\n",
    "        Y = nd.dot(H,W_hq) + b_q\n",
    "        outputs.append(Y)\n",
    "    return outputs, (H,)"
   ]
  },
  {
   "cell_type": "code",
   "execution_count": 90,
   "metadata": {},
   "outputs": [
    {
     "data": {
      "text/plain": [
       "(5, (2, 1027), (2, 256))"
      ]
     },
     "execution_count": 90,
     "metadata": {},
     "output_type": "execute_result"
    }
   ],
   "source": [
    "state = init_rnn_state(X.shape[0],num_hiddens,ctx)\n",
    "inputs = to_onehot(X.as_in_context(ctx), vocab_size)\n",
    "params = get_params()\n",
    "outputs, state_new = rnn(inputs, state, params)\n",
    "len(outputs), outputs[0].shape, state_new[0].shape"
   ]
  },
  {
   "cell_type": "raw",
   "metadata": {},
   "source": [
    "定义预测函数"
   ]
  },
  {
   "cell_type": "code",
   "execution_count": 97,
   "metadata": {},
   "outputs": [],
   "source": [
    "def predict_rnn(prefix, num_chars, rnn, params, init_rnn_state,\n",
    "               num_hiddens, vocab_size, ctx, idx_to_char, char_to_idx):\n",
    "    state = init_rnn_state(1, num_hiddens, ctx)\n",
    "    output = [char_to_idx[prefix[0]]]\n",
    "    for t in range(num_chars):\n",
    "        # 将上一时间步的输出作为当前时间步的输入\n",
    "        X = to_onehot(nd.array([output[-1]],ctx=ctx), vocab_size)\n",
    "        # 计算输出和更新隐藏状态\n",
    "        (Y,state) = rnn(X,state,params)\n",
    "        # 下一个时间步的输入是prefix里的字符或者当前的最佳预测字符\n",
    "        if t < len(prefix) - 1:\n",
    "            output.append(char_to_idx[prefix[t+1]])\n",
    "        else: \n",
    "            output.append(int(Y[0].argmax(axis=1).asscalar()))\n",
    "    return ''.join([idx_to_char[i] for i in output])\n",
    "    "
   ]
  },
  {
   "cell_type": "code",
   "execution_count": 101,
   "metadata": {},
   "outputs": [
    {
     "data": {
      "text/plain": [
       "'分开带C刚护潮美用必非'"
      ]
     },
     "execution_count": 101,
     "metadata": {},
     "output_type": "execute_result"
    }
   ],
   "source": [
    "predict_rnn('分开',10,rnn,params, init_rnn_state, num_hiddens, vocab_size, ctx, idx_to_char, char_to_idx)"
   ]
  },
  {
   "cell_type": "raw",
   "metadata": {},
   "source": [
    "裁剪梯度"
   ]
  },
  {
   "cell_type": "code",
   "execution_count": 116,
   "metadata": {},
   "outputs": [],
   "source": [
    "def grad_clipping(params, theta, ctx):\n",
    "    norm = nd.array([0],ctx)\n",
    "    for param in params:\n",
    "        norm += (param.grad**2).sum()\n",
    "    norm = norm.sqrt().asscalar()\n",
    "    if norm > theta:\n",
    "        for param in params:\n",
    "            param.grad[:] *= theta/norm"
   ]
  },
  {
   "cell_type": "raw",
   "metadata": {},
   "source": [
    "定义模型训练参数"
   ]
  },
  {
   "cell_type": "code",
   "execution_count": 112,
   "metadata": {},
   "outputs": [],
   "source": [
    "def train_and_predict_rnn(rnn,get_params, init_rnn_stats, num_hiddens,\n",
    "                         vocab_size, ctx, corpus_indices, idx_to_char,\n",
    "                         char_to_idx, is_random_iter, num_epochs, num_steps, \n",
    "                         lr, clipping_theta, batch_size, pred_period, \n",
    "                          pred_len, prefixes):\n",
    "    if is_random_iter:\n",
    "        data_iter_fn = d2l.data_iter_random\n",
    "    else:\n",
    "        data_iter_fn = d2l.data_iter_consecutive\n",
    "        \n",
    "    params = get_params()\n",
    "    loss = gloss.SoftmaxCrossEntropyLoss()\n",
    "    \n",
    "    for epoch in range(num_epochs):\n",
    "        if not is_random_iter: #如使用相邻采样，在epoch开始时初始化隐藏状态\n",
    "            state = init_rnn_state(batch_size, num_hiddens, ctx)\n",
    "        l_sum, n, start = 0.0, 0, time.time()\n",
    "        data_iter = data_iter_fn(corpus_indices, batch_size, num_steps, ctx)\n",
    "        for X, Y in data_iter:\n",
    "            if is_random_iter: # 如果使用随机采样，在每个小批量更新前初始化隐藏状态\n",
    "                state = init_rnn_state(batch_size, num_hiddens, ctx)\n",
    "            else: # 否则需要使用detach函数计算图分离隐藏状态\n",
    "                for s in state:\n",
    "                    s.detach()\n",
    "            with autograd.record():\n",
    "                inputs = to_onehot(X, vocab_size)\n",
    "                # outputs有num_steps个形状为（batch_size, vocab_size)的矩阵\n",
    "                (outputs, state) = rnn(inputs, state, params)\n",
    "                # 连结之后形状为(num_steps*batch_size, vocab_size)\n",
    "                outputs = nd.concat(*outputs, dim=0)\n",
    "                # Y的形状是(batch_size, num_steps),转置之后再变成长度为\n",
    "                # batch*num_steps的向量，这样跟输出的行一一对应\n",
    "                y = Y.T.reshape((-1,))\n",
    "                # 使用交叉熵损失计算平均分类误差\n",
    "                l = loss(outputs, y).mean()\n",
    "            l.backward()\n",
    "            grad_clipping(params, clipping_theta, ctx)\n",
    "            d2l.sgd(params, lr, 1) #因为误差已经取过均值， 梯度不用再做平均\n",
    "            l_sum += l.asscalar()*y.size\n",
    "            n += y.size\n",
    "            \n",
    "        if (epoch+1)%pred_period == 0:\n",
    "            print('epoch %d, perplexity %f, time %.2f sec' % (\n",
    "                epoch+1, math.exp(l_sum/n), time.time()-start)\n",
    "                 )\n",
    "            for prefix in prefixes:\n",
    "                print(' -', predict_rnn(\n",
    "                    prefix, pred_len, rnn, params, init_rnn_state,\n",
    "                    num_hiddens, vocab_size, ctx, idx_to_char, char_to_idx))"
   ]
  },
  {
   "cell_type": "raw",
   "metadata": {},
   "source": [
    "训练模型并创造歌词"
   ]
  },
  {
   "cell_type": "code",
   "execution_count": 104,
   "metadata": {},
   "outputs": [],
   "source": [
    "num_epochs, num_steps, batch_size, lr, clipping_theta = 250, 35, 32, 1e2, 1e-2\n",
    "pred_period, pred_len, prefixes = 50, 50, ['分开', '不分开']"
   ]
  },
  {
   "cell_type": "code",
   "execution_count": 117,
   "metadata": {},
   "outputs": [
    {
     "name": "stdout",
     "output_type": "stream",
     "text": [
      "epoch 50, perplexity 66.667743, time 1.07 sec\n",
      " - 分开 我不要再想爱 你知哈 我给我的可爱女人 坏坏的让我疯狂的可爱女人 坏坏的让我疯狂的可爱女人 坏坏\n",
      " - 不分开 快子我 别怪我 我不要 我爱我的可爱女人 坏坏的让我疯狂的可爱女人 坏坏的让我疯狂的可爱女人 \n",
      "epoch 100, perplexity 9.401083, time 1.06 sec\n",
      " - 分开 一直用双 在谁村外 在一场梦 你一定纵 不果海中 你一定空 不颗海中 你在一定 你的手空 不果海\n",
      " - 不分开亚 我爱你这 我想了好生活 后知后觉 我该好好生活 我知道好生活 不要不觉 你已经离开我 不知不\n",
      "epoch 150, perplexity 2.839450, time 1.07 sec\n",
      " - 分开 不是再双天打我妈妈 我说的话 你甘已在太记 不知后觉 我该好好生活 我该得很生活 不知不觉 你已\n",
      " - 不分开吗 我叫你爸想 我不要再想 我不 我不 我不能再想你 爱情不是 你已经离开我 不知不觉 我跟了这\n",
      "epoch 200, perplexity 1.576397, time 1.09 sec\n",
      " - 分开 一愿心双 他的完容 一切海动 没有种空 象一场梦 不敢去碰 没有再 痛不知珍重 也有苦衷 问候了\n",
      " - 不分开扫 我不能再想 我不 我不 我不能 爱情走的太快就像龙卷风 不能承受我已无处可躲 我不要再想 我\n",
      "epoch 250, perplexity 1.298585, time 1.15 sec\n",
      " - 分开 出默心空 他谁中容 盲都有从 疗伤止痛 不再感动 没有梦 痛不知轻重 一只灰狼 问候怕日出 白色\n",
      " - 不分开期 然后将过去 慢慢温习 让我爱上你 那场悲剧 是你完美演出的一场戏 宁愿心碎哭泣 再狠狠忘记 \n"
     ]
    }
   ],
   "source": [
    "train_and_predict_rnn(rnn, get_params, init_rnn_state, num_hiddens,\n",
    "                     vocab_size, ctx, corpus_indices, idx_to_char,\n",
    "                     char_to_idx, True, num_epochs, num_steps, lr,\n",
    "                     clipping_theta, batch_size, pred_period, pred_len,\n",
    "                     prefixes)"
   ]
  },
  {
   "cell_type": "raw",
   "metadata": {},
   "source": [
    "相邻采样训练模型并创作歌词"
   ]
  },
  {
   "cell_type": "code",
   "execution_count": 118,
   "metadata": {},
   "outputs": [
    {
     "name": "stdout",
     "output_type": "stream",
     "text": [
      "epoch 50, perplexity 61.711115, time 1.05 sec\n",
      " - 分开 我想要这 你有了空 我有你这 我有你这 我有你这 我有你这 我有你这 我有你这 我有你这 我有你\n",
      " - 不分开 我想要你 你有了空 我有你这 我有你这 我有你这 我有你这 我有你这 我有你这 我有你这 我有\n",
      "epoch 100, perplexity 7.252342, time 1.08 sec\n",
      " - 分开 一颗的 旧时光的脚头 一地是停医 你将它开抽抢 它果入秋 漫天黄沙凉过 哼哼哈兮 快果黄沙截过 \n",
      " - 不分开觉 你天经离 我跟种发 你么出痛 没有没痛 没不放纵 没有没有 没有己纵 恨不己痛 没有没痛 没\n",
      "epoch 150, perplexity 2.127260, time 1.05 sec\n",
      " - 分开 一候了 旧有了中我留 有话啊 是不是你不想活 说你怎么面对我 甩开球我满腔的怒火 我想揍你已经很\n",
      " - 不分开觉 你已经离开我 不知不觉 我跟了这节奏 后知后觉 又过了一 秋惯夜空 你想的梦 你在出纵 恨一\n",
      "epoch 200, perplexity 1.298990, time 1.05 sec\n",
      " - 分开 一候我 谁是神枪手 巫师盘在旧自我也妈 我是的话 你甘会听 不要再这样打我妈妈 难道你手不会痛吗\n",
      " - 不分开觉 你已经离开我 不知不觉 我跟了这节奏 后知后觉 后知了一个秋 后知后觉 我该好好生活 我该好\n",
      "epoch 250, perplexity 1.170554, time 1.03 sec\n",
      " - 分开 问候我 说怪神枪手 巫师 他念念 有词的 对酋长下诅咒  说骷用着我妈妈愿恼 我不要再你经再提起\n",
      " - 不分开觉 你已经离开我 不知不觉 我跟了这节奏 后知后觉 又过了一个秋 后知后觉 我该好好生活 我该好\n"
     ]
    }
   ],
   "source": [
    "train_and_predict_rnn(rnn, get_params, init_rnn_state, num_hiddens,\n",
    "                     vocab_size, ctx, corpus_indices, idx_to_char,\n",
    "                     char_to_idx, False, num_epochs, num_steps, lr,\n",
    "                     clipping_theta, batch_size, pred_period, pred_len,\n",
    "                     prefixes)"
   ]
  }
 ],
 "metadata": {
  "kernelspec": {
   "display_name": "Python 3",
   "language": "python",
   "name": "python3"
  },
  "language_info": {
   "codemirror_mode": {
    "name": "ipython",
    "version": 3
   },
   "file_extension": ".py",
   "mimetype": "text/x-python",
   "name": "python",
   "nbconvert_exporter": "python",
   "pygments_lexer": "ipython3",
   "version": "3.7.6"
  }
 },
 "nbformat": 4,
 "nbformat_minor": 4
}
